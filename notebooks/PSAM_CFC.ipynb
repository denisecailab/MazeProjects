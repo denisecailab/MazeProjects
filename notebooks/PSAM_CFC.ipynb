{
 "cells": [
  {
   "cell_type": "markdown",
   "metadata": {},
   "source": [
    "## Import Packages"
   ]
  },
  {
   "cell_type": "code",
   "execution_count": 1,
   "metadata": {},
   "outputs": [],
   "source": [
    "import numpy as np\n",
    "import pandas as pd\n",
    "import matplotlib.pyplot as plt\n",
    "from scipy import stats"
   ]
  },
  {
   "cell_type": "markdown",
   "metadata": {},
   "source": [
    "## Import Data"
   ]
  },
  {
   "cell_type": "markdown",
   "metadata": {},
   "source": [
    "There is one csv file per cohort. We skip 21 rows because those rows in the csv file describe the parameters of the recording (e.g. date, motion threshold) and don't contain actual data. We create one data frame with all of the recall data."
   ]
  },
  {
   "cell_type": "code",
   "execution_count": 2,
   "metadata": {},
   "outputs": [],
   "source": [
    "dataCohortOne = pd.read_csv('PSAM_reaaaaaacalls.csv', skiprows=21)\n",
    "dataCohortTwo = pd.read_csv('PSAM_round2_recalls.csv', skiprows=21)\n",
    "dataCohortThree = pd.read_csv('Cohort3_Recall.csv', skiprows=21)\n",
    "dataCohortFour = pd.read_csv('Cohort4RecallDaysFinal.csv', skiprows=21)\n",
    "\n",
    "data = pd.concat([dataCohortOne, dataCohortTwo, dataCohortThree, dataCohortFour])"
   ]
  },
  {
   "cell_type": "markdown",
   "metadata": {},
   "source": [
    "## Select the Average Data Across 10 Min"
   ]
  },
  {
   "cell_type": "markdown",
   "metadata": {},
   "source": [
    "Select the average data by choosing the rows that contain 'avg' in the component name column and we save it into new dataframe. Since not every fear conditioning box contained an animal, don't include the data from the empty box and we also reset the indices."
   ]
  },
  {
   "cell_type": "code",
   "execution_count": 3,
   "metadata": {},
   "outputs": [],
   "source": [
    "summarydata = data[data['Component Name'] == 'avg']\n",
    "summarydata = summarydata[summarydata['Animal'].notnull()].reset_index()"
   ]
  },
  {
   "cell_type": "markdown",
   "metadata": {},
   "source": [
    "## Split into Two Recall Days"
   ]
  },
  {
   "cell_type": "code",
   "execution_count": 4,
   "metadata": {},
   "outputs": [],
   "source": [
    "recallDayOneDates = ['210804_PSAM_recall_aged', \n",
    "                '210804_PSAM_recall_young',\n",
    "                '210824_PSAMRecall1_Group1',\n",
    "                '210824_PSAMRecall1_Group2', \n",
    "                '20210914_PSAM_Recall1_group1', \n",
    "                '20210914_PSAM_Recall1_group2',\n",
    "                '2021_11_09_PSAM_Ctx_test_g1', \n",
    "                '2021_11_09_PSAM_Ctx_test_g2', \n",
    "                '2021_11_09_PSAM_Ctx_test_g3']\n",
    "\n",
    "recallDayTwoDates = ['210805_PSAM_recall2_aged', \n",
    "                '210805_PSAM_recall2_young',\n",
    "                '210825_ContextTest_Group1',\n",
    "                '210825_ContextTest_Group2', \n",
    "                '20210915_PSAM_Recall2_group1', \n",
    "                '20210915_PSAM_Recall2_group2',\n",
    "                '2021_11_10_CFC_Test2_g1', \n",
    "                '2021_11_10_CFC_Test2_g2', \n",
    "                '2021_11_10_CFC_Test2_g3']\n",
    "\n",
    "recalldayone = pd.DataFrame()\n",
    "recalldaytwo = pd.DataFrame()\n",
    "\n",
    "for x in recallDayOneDates:\n",
    "    recalldayone = recalldayone.append(summarydata[summarydata['Experiment'] == x])\n",
    "    \n",
    "for x in recallDayTwoDates:\n",
    "    recalldaytwo = recalldaytwo.append(summarydata[summarydata['Experiment'] == x])"
   ]
  },
  {
   "cell_type": "markdown",
   "metadata": {},
   "source": [
    "## Split into PSEM and Saline "
   ]
  },
  {
   "cell_type": "markdown",
   "metadata": {},
   "source": [
    "One group received saline on Recall Day 1 and PSEM on Recall Day 2. Another group receieved PSEM on Day 1 and saline on Day 2. We split them up here and get the freezing values for each condition."
   ]
  },
  {
   "cell_type": "code",
   "execution_count": 5,
   "metadata": {},
   "outputs": [],
   "source": [
    "# Saline on Day 1: 1, 9, 10, 11, 14, 16, 18, 19, 22, 23, 27\n",
    "# PSEM on Day 2: 1, 9, 10, 11, 14, 16, 18, 19, 22, 23, 27\n",
    "\n",
    "# PSEM on Day 1: 2, 3, 7, 12, 17, 20, 21, 24, 25, 26\n",
    "# Saline on Day 2: 2, 3, 7, 12, 17, 20, 21, 24, 25, 26\n",
    "\n",
    "salineFirst = [9, 10, 11, 14, 16, 'PSAM18', 'PSAM19', 'PSAM22', 'PSAM23', 'PSAM27']\n",
    "psemFirst = [7, 12, 17, 'PSAM20', 'PSAM21', 'PSAM24', 'PSAM25', 'PSAM26']\n",
    "\n",
    "salinedayone = pd.DataFrame()\n",
    "psemdayone = pd.DataFrame()\n",
    "salinedaytwo = pd.DataFrame()\n",
    "psemdaytwo = pd.DataFrame()\n",
    "\n",
    "for x in salineFirst:\n",
    "    salinedayone = salinedayone.append(recalldayone[recalldayone['Animal']==x])\n",
    "    psemdaytwo = psemdaytwo.append(recalldaytwo[recalldaytwo['Animal']==x])\n",
    "\n",
    "for x in psemFirst:\n",
    "    psemdayone = psemdayone.append(recalldayone[recalldayone['Animal']==x])\n",
    "    salinedaytwo = salinedaytwo.append(recalldaytwo[recalldaytwo['Animal']==x])\n",
    "\n",
    "saline = pd.concat([salinedayone, salinedaytwo])\n",
    "psem = pd.concat([psemdayone, psemdaytwo])\n",
    "\n",
    "salinefreezing = saline['Pct Total Time Freezing'].values\n",
    "psemfreezing = psem['Pct Total Time Freezing'].values"
   ]
  },
  {
   "cell_type": "markdown",
   "metadata": {},
   "source": [
    "## Make Boxplot"
   ]
  },
  {
   "cell_type": "code",
   "execution_count": 7,
   "metadata": {},
   "outputs": [
    {
     "data": {
      "image/png": "[encoded data removed]",
      "text/plain": [
       "<Figure size 432x288 with 1 Axes>"
      ]
     },
     "metadata": {
      "needs_background": "light"
     },
     "output_type": "display_data"
    }
   ],
   "source": [
    "fig = plt.figure()\n",
    "ax = fig.add_axes([0,0,1,1])\n",
    "bp = ax.boxplot([salinefreezing, psemfreezing])\n",
    "x = [np.ones(18),np.ones(18)*2]\n",
    "plt.scatter([x],[salinefreezing, psemfreezing])\n",
    "plt.ylim(0, 100)\n",
    "plt.xticks([1, 2], ['Saline', 'PSEM'])\n",
    "plt.title('PSAM Fear Conditioning')\n",
    "plt.ylabel(\"% Freezing\")\n",
    "plt.show()"
   ]
  },
  {
   "cell_type": "markdown",
   "metadata": {},
   "source": [
    "## Boxplot by Recall Day"
   ]
  },
  {
   "cell_type": "markdown",
   "metadata": {},
   "source": [
    "Do we care about this???"
   ]
  },
  {
   "cell_type": "code",
   "execution_count": 8,
   "metadata": {},
   "outputs": [
    {
     "data": {
      "image/png": "[encoded data removed]",
      "text/plain": [
       "<Figure size 432x288 with 1 Axes>"
      ]
     },
     "metadata": {
      "needs_background": "light"
     },
     "output_type": "display_data"
    }
   ],
   "source": [
    "salinefreezingdayone = salinedayone['Pct Total Time Freezing'].values\n",
    "psemfreezingdayone = psemdayone['Pct Total Time Freezing'].values\n",
    "\n",
    "salinefreezingdaytwo = salinedaytwo['Pct Total Time Freezing'].values\n",
    "psemfreezingdaytwo = psemdaytwo['Pct Total Time Freezing'].values\n",
    "\n",
    "psemfreezingdaytwo\n",
    "fig = plt.figure()\n",
    "ax = fig.add_axes([0,0,1,1])\n",
    "bp = ax.boxplot([salinefreezingdayone, psemfreezingdayone, salinefreezingdaytwo, psemfreezingdaytwo])\n",
    "plt.ylim(0, 100)\n",
    "plt.xticks([1, 2, 3, 4], ['Saline Day 1', 'PSEM Day 1', 'Saline Day 2', 'PSEM Day 2'])\n",
    "plt.title('PSAM Fear Conditioning')\n",
    "plt.ylabel(\"% Freezing\")\n",
    "plt.show()"
   ]
  },
  {
   "cell_type": "markdown",
   "metadata": {},
   "source": [
    "## Tentative Stats?"
   ]
  },
  {
   "cell_type": "code",
   "execution_count": 9,
   "metadata": {},
   "outputs": [
    {
     "name": "stdout",
     "output_type": "stream",
     "text": [
      "Ttest_indResult(statistic=2.127363132112515, pvalue=0.04072498400494308)\n"
     ]
    }
   ],
   "source": [
    "#t-test between saline and psem conditions. should i do an ANOVA or something?\n",
    "\n",
    "print(stats.ttest_ind(salinefreezing, psemfreezing))"
   ]
  },
  {
   "cell_type": "code",
   "execution_count": 14,
   "metadata": {},
   "outputs": [
    {
     "data": {
      "text/plain": [
       "Ttest_indResult(statistic=2.7230789339386456, pvalue=0.015043211429459366)"
      ]
     },
     "execution_count": 14,
     "metadata": {},
     "output_type": "execute_result"
    }
   ],
   "source": [
    "stats.ttest_ind(salinefreezingdaytwo, psemfreezingdaytwo)"
   ]
  },
  {
   "cell_type": "code",
   "execution_count": null,
   "metadata": {},
   "outputs": [],
   "source": []
  }
 ],
 "metadata": {
  "kernelspec": {
   "display_name": "Python 3",
   "language": "python",
   "name": "python3"
  },
  "language_info": {
   "codemirror_mode": {
    "name": "ipython",
    "version": 3
   },
   "file_extension": ".py",
   "mimetype": "text/x-python",
   "name": "python",
   "nbconvert_exporter": "python",
   "pygments_lexer": "ipython3",
   "version": "3.7.4"
  }
 },
 "nbformat": 4,
 "nbformat_minor": 4
}
